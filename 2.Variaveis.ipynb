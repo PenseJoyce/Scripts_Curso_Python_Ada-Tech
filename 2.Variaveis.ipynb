{
 "cells": [
  {
   "cell_type": "code",
   "execution_count": 1,
   "metadata": {},
   "outputs": [
    {
     "name": "stdout",
     "output_type": "stream",
     "text": [
      "<class 'int'>\n",
      "<class 'float'>\n",
      "<class 'str'>\n",
      "<class 'bool'>\n"
     ]
    }
   ],
   "source": [
    "# > VARIAVEIS\n",
    "\n",
    "# 1. Variáveis\n",
    "\n",
    "idade = 26 # criando uma variável\n",
    "nome = 'Joyce'\n",
    "\n",
    "\n",
    "''' \n",
    "# 2.  Tipos de variáveis \n",
    "\n",
    "1. int: números inteiros, ou seja, números sem parte decimal\n",
    "2. float: números reais, números com parte decimal\n",
    "3. str: cadeias de caracteres, dados textuais\n",
    "4. bool: valores lógicos (booleanos): True ou False \n",
    "5. complex: Complexo\n",
    "6. list: Listas \n",
    "7. tuple: Tuplas \n",
    "8. dict: Dicionários\n",
    "\n",
    "'''\n",
    "\n",
    "idade = 29\n",
    "altura = 1.55\n",
    "nome = 'Joy'\n",
    "estudando = True\n",
    "\n",
    "print(type(idade))\n",
    "print(type(altura))\n",
    "print(type(nome))\n",
    "print(type(estudando))\n"
   ]
  },
  {
   "cell_type": "code",
   "execution_count": 4,
   "metadata": {},
   "outputs": [
    {
     "name": "stdout",
     "output_type": "stream",
     "text": [
      "<class 'complex'>\n",
      "<class 'complex'>\n",
      "<class 'tuple'>\n",
      "<class 'list'>\n"
     ]
    }
   ],
   "source": [
    "# 2. Demais tipos\n",
    "\n",
    "a = 5+2j\n",
    "b = 20+6j\n",
    "alunos = ('Amanda', 'Ana', 'Bruno', 'João')\n",
    "notas = [10, 8.5, 7.8, 8.0] \n",
    "\n",
    "\n",
    "print(type(a))\n",
    "print(type(b))\n",
    "\n",
    "print(type(alunos))\n",
    "print(type(notas))"
   ]
  }
 ],
 "metadata": {
  "kernelspec": {
   "display_name": "base",
   "language": "python",
   "name": "python3"
  },
  "language_info": {
   "codemirror_mode": {
    "name": "ipython",
    "version": 3
   },
   "file_extension": ".py",
   "mimetype": "text/x-python",
   "name": "python",
   "nbconvert_exporter": "python",
   "pygments_lexer": "ipython3",
   "version": "3.10.9"
  },
  "orig_nbformat": 4
 },
 "nbformat": 4,
 "nbformat_minor": 2
}
