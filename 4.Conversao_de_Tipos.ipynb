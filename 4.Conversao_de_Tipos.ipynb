{
 "cells": [
  {
   "cell_type": "code",
   "execution_count": 12,
   "metadata": {},
   "outputs": [
    {
     "name": "stdout",
     "output_type": "stream",
     "text": [
      "10 <class 'str'>\n",
      "10 <class 'int'>\n",
      "30\n"
     ]
    }
   ],
   "source": [
    "# CONVERSAO DE TIPOS\n",
    "\n",
    "numero1 = '10' #str\n",
    "numero2 = 20 #int\n",
    "\n",
    "print(numero1, type(numero1))\n",
    "\n",
    "numero1 = int(numero1)\n",
    "\n",
    "# após a conversao\n",
    "print(numero1, type(numero1))\n",
    "print(numero1+numero2)\n"
   ]
  },
  {
   "cell_type": "code",
   "execution_count": 15,
   "metadata": {},
   "outputs": [
    {
     "name": "stdout",
     "output_type": "stream",
     "text": [
      "<class 'float'>\n"
     ]
    }
   ],
   "source": [
    "# obtendo dados de usuarios \n",
    "\n",
    "altura = float(input('Qual é a sua altura?'))\n",
    "\n",
    "print(type(altura))"
   ]
  }
 ],
 "metadata": {
  "kernelspec": {
   "display_name": "base",
   "language": "python",
   "name": "python3"
  },
  "language_info": {
   "codemirror_mode": {
    "name": "ipython",
    "version": 3
   },
   "file_extension": ".py",
   "mimetype": "text/x-python",
   "name": "python",
   "nbconvert_exporter": "python",
   "pygments_lexer": "ipython3",
   "version": "3.10.9"
  },
  "orig_nbformat": 4
 },
 "nbformat": 4,
 "nbformat_minor": 2
}
