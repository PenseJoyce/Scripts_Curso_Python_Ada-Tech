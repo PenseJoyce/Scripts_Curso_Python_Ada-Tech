{
 "cells": [
  {
   "cell_type": "code",
   "execution_count": 19,
   "metadata": {},
   "outputs": [
    {
     "name": "stdout",
     "output_type": "stream",
     "text": [
      "1\n",
      "Isadora\n",
      "10\n"
     ]
    }
   ],
   "source": [
    "# > DICIONARIOS\n",
    "\n",
    "# 1. Criando dicionarios (chave, valor)\n",
    "\n",
    "dicionario = {}\n",
    "\n",
    "dici = {'id': 1, 'nome': 'Isadora', 'altura': 1.75} \n",
    "\n",
    "print(dici['id'])\n",
    "print(dici['nome'])\n",
    "\n",
    "dici['id'] = 10 \n",
    "print(dici['id'])"
   ]
  },
  {
   "cell_type": "code",
   "execution_count": 23,
   "metadata": {},
   "outputs": [
    {
     "name": "stdout",
     "output_type": "stream",
     "text": [
      "id 10\n",
      "nome Isadora\n",
      "altura 1.75\n"
     ]
    }
   ],
   "source": [
    "# Iterando sobre um dicionario \n",
    "\n",
    "for chave in dici:\n",
    "    print(chave, dici[chave])\n"
   ]
  },
  {
   "cell_type": "code",
   "execution_count": 26,
   "metadata": {},
   "outputs": [
    {
     "name": "stdout",
     "output_type": "stream",
     "text": [
      "False\n",
      "True\n"
     ]
    }
   ],
   "source": [
    "# Testando a existência de uma chave \n",
    "\n",
    "print('peso' in dici) # esta chave não está no dicionário\n",
    "print('altura' in dici) # esta chave está no dicionário"
   ]
  }
 ],
 "metadata": {
  "kernelspec": {
   "display_name": "base",
   "language": "python",
   "name": "python3"
  },
  "language_info": {
   "codemirror_mode": {
    "name": "ipython",
    "version": 3
   },
   "file_extension": ".py",
   "mimetype": "text/x-python",
   "name": "python",
   "nbconvert_exporter": "python",
   "pygments_lexer": "ipython3",
   "version": "3.10.9"
  },
  "orig_nbformat": 4
 },
 "nbformat": 4,
 "nbformat_minor": 2
}
