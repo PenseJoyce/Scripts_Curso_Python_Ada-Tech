{
 "cells": [
  {
   "cell_type": "code",
   "execution_count": 17,
   "metadata": {},
   "outputs": [
    {
     "name": "stdout",
     "output_type": "stream",
     "text": [
      "Antes do append:  [1, 2, 12, 8]\n",
      "Depois do append:  [1, 2, 12, 8, 3]\n",
      "Depois do insert:  [1, 2, 10, 12, 8, 3]\n",
      "Depois do extend:  [1, 2, 10, 12, 8, 3, 1, 2, 3]\n",
      "Depois do pop:  [2, 10, 12, 8, 3, 1, 2]\n",
      "Quantidade de 2 na lista:  2\n",
      "Índice do elemento 12:  2\n",
      "[12, 10, 8, 2, 2, 1]\n",
      "6\n",
      "35\n",
      "12\n",
      "1\n"
     ]
    }
   ],
   "source": [
    "# > MÉTODOS DE LISTAS\n",
    "\n",
    "lista = [1, 2, 12, 8]\n",
    "\n",
    "# APPEND\n",
    "print('Antes do append: ', lista)\n",
    "lista.append(3)\n",
    "print('Depois do append: ', lista)\n",
    "\n",
    "\n",
    "# INSERT\n",
    "lista.insert(2, 10) \n",
    "print('Depois do insert: ', lista)\n",
    "\n",
    "\n",
    "# EXTEND\n",
    "lista2 = [1, 2, 3]\n",
    "lista.extend(lista2)\n",
    "\n",
    "print('Depois do extend: ', lista)\n",
    "\n",
    "# POP\n",
    "lista.pop() # elimina o último elemento\n",
    "lista.pop(0) # especificou o índice do elemento\n",
    "print('Depois do pop: ', lista)\n",
    "\n",
    "\n",
    "# REMOVE\n",
    "lista.remove(3) # remove o elemento (o primeiro que encontra)\n",
    "\n",
    "\n",
    "# COUNT \n",
    "print('Quantidade de 2 na lista: ', lista.count(2))\n",
    "\n",
    "\n",
    "# INDEX \n",
    "print('Índice do elemento 12: ', lista.index(12))\n",
    "\n",
    "# SORT \n",
    "lista.sort(reverse= True)\n",
    "print(lista)\n",
    "\n",
    "\n",
    "# FUNÇÕES PARA AS LISTAS \n",
    "\n",
    "# len\n",
    "print(len(lista))\n",
    "\n",
    "# sum \n",
    "print(sum(lista))\n",
    "\n",
    "# max\n",
    "print(max(lista))\n",
    "\n",
    "# min \n",
    "print(min(lista))\n"
   ]
  }
 ],
 "metadata": {
  "kernelspec": {
   "display_name": "base",
   "language": "python",
   "name": "python3"
  },
  "language_info": {
   "codemirror_mode": {
    "name": "ipython",
    "version": 3
   },
   "file_extension": ".py",
   "mimetype": "text/x-python",
   "name": "python",
   "nbconvert_exporter": "python",
   "pygments_lexer": "ipython3",
   "version": "3.10.9"
  },
  "orig_nbformat": 4
 },
 "nbformat": 4,
 "nbformat_minor": 2
}
