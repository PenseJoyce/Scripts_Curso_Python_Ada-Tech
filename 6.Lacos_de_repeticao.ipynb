{
 "cells": [
  {
   "cell_type": "code",
   "execution_count": 3,
   "metadata": {},
   "outputs": [
    {
     "name": "stdout",
     "output_type": "stream",
     "text": [
      "Errou, tente novamente...\n",
      "Errou, tente novamente...\n",
      "Errou, tente novamente...\n",
      "Errou, tente novamente...\n",
      "Parabéns! Você acertou!\n"
     ]
    }
   ],
   "source": [
    "# Estruturas de controle de fluxo\n",
    "\n",
    "\"\"\" \n",
    "1. Verificar se o numereo sorteado é igual ao numero sorteado \n",
    "\"\"\"\n",
    "\n",
    "numero_sorteado = 15\n",
    "numero_escolhido = int(input('Informe um numero entre 1 e 20: '))\n",
    "\n",
    "while numero_escolhido != numero_sorteado:\n",
    "    print('Errou, tente novamente...')\n",
    "\n",
    "    numero_escolhido = int(input('Informe um numero entre 1 e 20: '))\n",
    "\n",
    "print('Parabéns! Você acertou!')"
   ]
  },
  {
   "cell_type": "code",
   "execution_count": 4,
   "metadata": {},
   "outputs": [
    {
     "name": "stdout",
     "output_type": "stream",
     "text": [
      "0\n",
      "1\n",
      "2\n",
      "3\n",
      "4\n"
     ]
    }
   ],
   "source": [
    "\"\"\"\n",
    "2. Estrutura com contador\n",
    "\"\"\"\n",
    "contador = 0\n",
    "\n",
    "while contador < 5:\n",
    "    print(contador)\n",
    "    contador = contador + 1 \n"
   ]
  }
 ],
 "metadata": {
  "kernelspec": {
   "display_name": "base",
   "language": "python",
   "name": "python3"
  },
  "language_info": {
   "codemirror_mode": {
    "name": "ipython",
    "version": 3
   },
   "file_extension": ".py",
   "mimetype": "text/x-python",
   "name": "python",
   "nbconvert_exporter": "python",
   "pygments_lexer": "ipython3",
   "version": "3.10.9"
  },
  "orig_nbformat": 4
 },
 "nbformat": 4,
 "nbformat_minor": 2
}
