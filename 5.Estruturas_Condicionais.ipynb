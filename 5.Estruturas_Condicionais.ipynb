{
 "cells": [
  {
   "cell_type": "code",
   "execution_count": 10,
   "metadata": {},
   "outputs": [
    {
     "name": "stdout",
     "output_type": "stream",
     "text": [
      "Você é menor de idade\n",
      "Aprovada(o)!\n"
     ]
    }
   ],
   "source": [
    "# Estruturas de controle de fluxo\n",
    "\n",
    "\"\"\"\n",
    "1. Objetivo: Entender se a pessoa é maior de idade \n",
    "\"\"\"\n",
    "\n",
    "idade = int(input('Qual é a sua idade?'))\n",
    "\n",
    "if idade >= 18:\n",
    "    print('Você é maior de idade!')\n",
    "else :\n",
    "    print('Você é menor de idade')\n",
    "\n",
    "\n",
    "\n",
    "\"\"\" \n",
    "2. Objetivo: Imagine que você queira imprimir \"Aprovada(o)\", caso o estudante tenha uma \n",
    "média superior ou igual a 7, e \"Reprovado\", caso a média seja inferior a 7.\n",
    "\"\"\"\n",
    "\n",
    "media = 7\n",
    "presenca = 0.75\n",
    "\n",
    "if media >= 7:\n",
    "    print('Aprovada(o)!')\n",
    "elif media >= 5:\n",
    "    print('Voce foi para a Recuperação.')\n",
    "else:\n",
    "    print('Reprovado!')"
   ]
  },
  {
   "cell_type": "code",
   "execution_count": 13,
   "metadata": {},
   "outputs": [
    {
     "name": "stdout",
     "output_type": "stream",
     "text": [
      "Voce foi para a Recuperação.\n"
     ]
    }
   ],
   "source": [
    "\"\"\"\n",
    "3. Objetivo: Média superior ou igual a 7 e presença superior a 70%\n",
    "\"\"\"\n",
    "\n",
    "media = 7\n",
    "presenca = 50\n",
    "\n",
    "if (media >= 7 and presenca > 70):\n",
    "    print('Aprovada(o)!')\n",
    "elif media >= 5:\n",
    "    print('Voce foi para a Recuperação.')\n",
    "else:\n",
    "    print('Reprovado!')"
   ]
  }
 ],
 "metadata": {
  "kernelspec": {
   "display_name": "base",
   "language": "python",
   "name": "python3"
  },
  "language_info": {
   "codemirror_mode": {
    "name": "ipython",
    "version": 3
   },
   "file_extension": ".py",
   "mimetype": "text/x-python",
   "name": "python",
   "nbconvert_exporter": "python",
   "pygments_lexer": "ipython3",
   "version": "3.10.9"
  },
  "orig_nbformat": 4
 },
 "nbformat": 4,
 "nbformat_minor": 2
}
