{
 "cells": [
  {
   "cell_type": "code",
   "execution_count": 25,
   "metadata": {},
   "outputs": [
    {
     "data": {
      "text/plain": [
       "'\\ninput()\\nprint()\\nlen()\\nmax()\\n\\n'"
      ]
     },
     "execution_count": 25,
     "metadata": {},
     "output_type": "execute_result"
    }
   ],
   "source": [
    "# > FUNCOES\n",
    "\n",
    "# 1. O que são funções e por que utilizá-las?\n",
    "\n",
    "'''\n",
    "input()\n",
    "print()\n",
    "len()\n",
    "max()\n",
    "\n",
    "'''\n"
   ]
  },
  {
   "cell_type": "code",
   "execution_count": null,
   "metadata": {},
   "outputs": [],
   "source": [
    "# 2. Criação de Funções \n",
    "\n",
    "# Funcao inicial \n",
    "\n",
    "def saudacao ():\n",
    "    print('Seja bem Vindo.')\n",
    "    print('Olá, é um prazer ter você fazendo parte desse curso!')\n",
    "\n",
    "saudacao()"
   ]
  },
  {
   "cell_type": "code",
   "execution_count": null,
   "metadata": {},
   "outputs": [],
   "source": [
    "# Funcao com parametros \n",
    "\n",
    "def saudacao_nome(nome, curso):\n",
    "    print(f'\\nSeja bem Vindo, {nome}!')\n",
    "    print(f'Olá, é um prazer ter você fazendo parte do curso de {curso}!')\n",
    "\n",
    "saudacao_nome('Rosangela', 'Python')\n",
    "saudacao_nome('Joyce', 'Português')"
   ]
  },
  {
   "cell_type": "code",
   "execution_count": null,
   "metadata": {},
   "outputs": [],
   "source": [
    "\n",
    "# Funcao com parametros default \n",
    "\n",
    "def saudacao_2(nome, curso=\"Python\"):\n",
    "    print(f'\\nSeja bem-vindo!')\n",
    "    print(f'Olá, é um prazer ter você fazendo parte do curso de {curso}!')\n",
    "\n",
    "saudacao_2('Walisson', 'C++')"
   ]
  },
  {
   "cell_type": "code",
   "execution_count": null,
   "metadata": {},
   "outputs": [],
   "source": [
    "# Funções com retorno \n",
    "\n",
    "def soma(num1, num2):\n",
    "    return num1 + num2\n",
    "\n",
    "print('O resultado da soma é', soma(5, 7))  "
   ]
  },
  {
   "cell_type": "code",
   "execution_count": 29,
   "metadata": {},
   "outputs": [
    {
     "data": {
      "text/plain": [
       "-10"
      ]
     },
     "execution_count": 29,
     "metadata": {},
     "output_type": "execute_result"
    }
   ],
   "source": [
    "# calculadora \n",
    "\n",
    "def calculadora(num1, num2, operacao = '+'):\n",
    "    if operacao == '+':\n",
    "        return num1+num2\n",
    "    elif operacao == '-':\n",
    "        return num1-num2\n",
    "    \n",
    "calculadora(10, 20)    \n",
    "calculadora(10, 20, '-')\n"
   ]
  }
 ],
 "metadata": {
  "kernelspec": {
   "display_name": "base",
   "language": "python",
   "name": "python3"
  },
  "language_info": {
   "codemirror_mode": {
    "name": "ipython",
    "version": 3
   },
   "file_extension": ".py",
   "mimetype": "text/x-python",
   "name": "python",
   "nbconvert_exporter": "python",
   "pygments_lexer": "ipython3",
   "version": "3.10.9"
  },
  "orig_nbformat": 4
 },
 "nbformat": 4,
 "nbformat_minor": 2
}
