{
 "cells": [
  {
   "cell_type": "code",
   "execution_count": 7,
   "metadata": {},
   "outputs": [
    {
     "name": "stdout",
     "output_type": "stream",
     "text": [
      "[26, 'Walisson', 3.14]\n",
      "26\n",
      "Walisson\n",
      "3.14\n",
      "True\n",
      "26\n",
      "Walisson\n",
      "3.14\n",
      "True\n",
      "\n",
      "Comprimento da Lista:  4\n"
     ]
    }
   ],
   "source": [
    "\n",
    "# > LISTAS \n",
    "\n",
    "# Antes \n",
    "nota1 = 7.9 \n",
    "nota2 = 9.7\n",
    "nota2 = 8.2\n",
    "\n",
    "# Com lista\n",
    "notas = [7.9, 9.7, 8.2]\n",
    "\n",
    "# Criando lista\n",
    "lista = []\n",
    "lista = list()\n",
    "lista = [26, 'Walisson', 3.14, False]\n",
    "lista_de_listas = [10, [1, 2, 3]]\n",
    "\n",
    "# Indexação (forma de acessar o conteúdo) e Slices (fatiamento)\n",
    "lista = [26, 'Walisson', 3.14, True]\n",
    "print(lista[0:3])\n",
    "\n",
    "# 1. Imprimindo toda a lista\n",
    "\n",
    "for a in lista:\n",
    "    print(a)\n",
    "\n",
    "for i in range(len(lista)):\n",
    "    print(lista[i])\n",
    "\n",
    "\n",
    "#2. Utilizando os índices\n",
    "\n",
    "print('\\nComprimento da Lista: ', len(lista))\n"
   ]
  }
 ],
 "metadata": {
  "kernelspec": {
   "display_name": "base",
   "language": "python",
   "name": "python3"
  },
  "language_info": {
   "codemirror_mode": {
    "name": "ipython",
    "version": 3
   },
   "file_extension": ".py",
   "mimetype": "text/x-python",
   "name": "python",
   "nbconvert_exporter": "python",
   "pygments_lexer": "ipython3",
   "version": "3.10.9"
  },
  "orig_nbformat": 4
 },
 "nbformat": 4,
 "nbformat_minor": 2
}
