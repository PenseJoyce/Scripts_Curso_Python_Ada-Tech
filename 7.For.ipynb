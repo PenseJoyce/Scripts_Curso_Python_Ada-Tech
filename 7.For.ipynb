{
 "cells": [
  {
   "cell_type": "code",
   "execution_count": 13,
   "metadata": {},
   "outputs": [
    {
     "name": "stdout",
     "output_type": "stream",
     "text": [
      "1\n",
      "3\n",
      "5\n",
      "7\n",
      "9\n"
     ]
    }
   ],
   "source": [
    "\n",
    "\"\"\" \n",
    " A estrutura range retorna um conjunto de elementos \n",
    "\n",
    "range(fim)                  # range(stop) \n",
    "range(inicio, fim)          # range(start, stop)\n",
    "range(inicio, fim, passo)   # range(start, stop, step)\n",
    "\"\"\"\n",
    "\n",
    "for variavel in range(1, 10, 2):\n",
    "    print(variavel)\n"
   ]
  },
  {
   "cell_type": "code",
   "execution_count": 6,
   "metadata": {},
   "outputs": [
    {
     "name": "stdout",
     "output_type": "stream",
     "text": [
      "9.0\n",
      "27.0\n",
      "3\n"
     ]
    }
   ],
   "source": [
    "soma = 0\n",
    "media = 0\n",
    "\n",
    "for i in range(1, 4, 1):\n",
    "\n",
    "    nota = float(input(f'Informe a sua nota {i}'))\n",
    "    soma = soma + nota\n",
    "    media = soma/i\n",
    "\n",
    "print(media)\n",
    "print(soma)\n",
    "print(i)\n"
   ]
  }
 ],
 "metadata": {
  "kernelspec": {
   "display_name": "base",
   "language": "python",
   "name": "python3"
  },
  "language_info": {
   "codemirror_mode": {
    "name": "ipython",
    "version": 3
   },
   "file_extension": ".py",
   "mimetype": "text/x-python",
   "name": "python",
   "nbconvert_exporter": "python",
   "pygments_lexer": "ipython3",
   "version": "3.10.9"
  },
  "orig_nbformat": 4
 },
 "nbformat": 4,
 "nbformat_minor": 2
}
