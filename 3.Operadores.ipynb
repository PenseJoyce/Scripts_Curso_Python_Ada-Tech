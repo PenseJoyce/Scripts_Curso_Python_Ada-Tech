{
 "cells": [
  {
   "cell_type": "code",
   "execution_count": 2,
   "metadata": {},
   "outputs": [
    {
     "name": "stdout",
     "output_type": "stream",
     "text": [
      "12\n",
      "8\n",
      "20\n",
      "5.0\n",
      "5\n",
      "0\n",
      "100\n"
     ]
    }
   ],
   "source": [
    "# > OPERADORES\n",
    "\n",
    "# 1. Operadores Aritméticos\n",
    "\n",
    "''' \n",
    "- Soma: +\n",
    "- Subtração: -\n",
    "- Multiplicação: * \n",
    "- Divisão: /\n",
    "- Divisão Inteira: // \n",
    "- Resto da divisão: %\n",
    "- Potência: **\n",
    "'''\n",
    "\n",
    "numero1 = 10\n",
    "numero2 = 2\n",
    "\n",
    "print(numero1 + numero2)\n",
    "print(numero1 - numero2)\n",
    "print(numero1 * numero2)\n",
    "print(numero1 / numero2)\n",
    "print(numero1 // numero2)\n",
    "print(numero1 % numero2)\n",
    "print(numero1 ** numero2)"
   ]
  },
  {
   "cell_type": "code",
   "execution_count": 8,
   "metadata": {},
   "outputs": [
    {
     "name": "stdout",
     "output_type": "stream",
     "text": [
      "False\n",
      "True\n",
      "False\n",
      "True\n",
      "True\n"
     ]
    }
   ],
   "source": [
    "# 2. Operadores de comparação \n",
    "\n",
    "'''\n",
    "=\tx = 1\n",
    "+=\tx = x + 1\n",
    "-=\tx = x - 1\n",
    "*=\tx = x * 1\n",
    "/=\tx = x / 1\n",
    "%=\tx = x % 1\n",
    "'''\n",
    "\n",
    "idade1 = 10\n",
    "idade2 = 15\n",
    "altura1 = 1.77\n",
    "altura2 = 1.65\n",
    "altura3 = altura2\n",
    "\n",
    "print(idade1 > idade2)\n",
    "print(idade1 <= idade2)\n",
    "print('python' == 'Python')\n",
    "print('banana' != 'abacaxi')\n",
    "print(altura1 > altura2)"
   ]
  },
  {
   "cell_type": "code",
   "execution_count": 1,
   "metadata": {},
   "outputs": [
    {
     "name": "stdout",
     "output_type": "stream",
     "text": [
      "As Duas condições são verdadeiras\n",
      "Uma ou duas das condições são verdadeiras\n"
     ]
    }
   ],
   "source": [
    "# Operadores Lógicos \n",
    "\n",
    "'''\n",
    "and -> Retorna True se ambas as afirmações forem verdadeiras\n",
    "or -> Retorna True se uma das afirmações for verdadeira\n",
    "not -> \tretorna Falso se o resultado for verdadeiro\n",
    "'''\n",
    "\n",
    "num1 = 7\n",
    "num2 = 4\n",
    "\n",
    "# Exemplo and\n",
    "if num1 > 3 and num2 < 8:\n",
    "    print(\"As Duas condições são verdadeiras\")\n",
    "\n",
    "# Exemplo or\n",
    "if num1 > 4 or num2 <= 8:\n",
    "    print(\"Uma ou duas das condições são verdadeiras\")\n",
    "\n",
    "# Exemplo not\n",
    "if not (num1 < 30 and num2 < 8):\n",
    "    print('Inverte o resultado da condição entre os parânteses')"
   ]
  },
  {
   "cell_type": "code",
   "execution_count": 4,
   "metadata": {},
   "outputs": [
    {
     "name": "stdout",
     "output_type": "stream",
     "text": [
      "São o mesmo objeto? True\n",
      "São o mesmo objeto? False\n",
      "Os objetos são diferentes? False\n"
     ]
    }
   ],
   "source": [
    "# Operadores de identidade\n",
    "\n",
    "'''\n",
    "is -> Retorna True se ambas as variáveis são o mesmo objeto\n",
    "is not -> \tRetorna True se ambas as variáveis não forem o mesmo objeto\n",
    "''' \n",
    "\n",
    "lista = [1, 2, 3]\n",
    "outra_lista = [1, 2, 3]\n",
    "recebe_lista = lista\n",
    "\n",
    "# Recebe True, pois são o mesmo objeto\n",
    "print(f\"São o mesmo objeto? {lista is recebe_lista}\")\n",
    "\n",
    "# Retorna False, pois são objetos diferentes\n",
    "print(f\"São o mesmo objeto? {lista is outra_lista}\")\n",
    "\n",
    "# Exemplo do operador is not:\n",
    "tupla = (1, 2, 3)\n",
    "outra_tupla = (1, 2, 3)\n",
    "\n",
    "print(f\"Os objetos são diferentes? {outra_tupla is tupla}\")\n"
   ]
  },
  {
   "cell_type": "code",
   "execution_count": 5,
   "metadata": {},
   "outputs": [
    {
     "name": "stdout",
     "output_type": "stream",
     "text": [
      "True\n",
      "True\n"
     ]
    }
   ],
   "source": [
    "# Operadores de Associação \n",
    "\n",
    "'''\n",
    "\n",
    "in -> \tRetorna True caso o valor seja encontrado na sequência\n",
    "not in -> \tRetorna True caso o valor não seja encontrado na sequência\n",
    "\n",
    "''' \n",
    "\n",
    "lista = [\"Python\", 'Academy', \"Operadores\", 'Condições']\n",
    "\n",
    "# Verifica se existe a string dentro da lista\n",
    "print('Python' in lista)  # Saída: True\n",
    "\n",
    "# Verifica se não existe a string dentro da lista\n",
    "print('SQL' not in lista) # Saída: True"
   ]
  }
 ],
 "metadata": {
  "kernelspec": {
   "display_name": "base",
   "language": "python",
   "name": "python3"
  },
  "language_info": {
   "codemirror_mode": {
    "name": "ipython",
    "version": 3
   },
   "file_extension": ".py",
   "mimetype": "text/x-python",
   "name": "python",
   "nbconvert_exporter": "python",
   "pygments_lexer": "ipython3",
   "version": "3.10.9"
  },
  "orig_nbformat": 4
 },
 "nbformat": 4,
 "nbformat_minor": 2
}
