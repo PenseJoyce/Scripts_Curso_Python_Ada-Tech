{
 "cells": [
  {
   "cell_type": "code",
   "execution_count": 4,
   "metadata": {},
   "outputs": [
    {
     "name": "stdout",
     "output_type": "stream",
     "text": [
      "Hello World\n",
      "Seja bem-vindo\n"
     ]
    }
   ],
   "source": [
    "# A função print é usada para escrever uma mensagem na tela \n",
    "\n",
    "print('Hello World')\n",
    "print('Seja bem-vindo')"
   ]
  },
  {
   "cell_type": "code",
   "execution_count": 5,
   "metadata": {},
   "outputs": [
    {
     "name": "stdout",
     "output_type": "stream",
     "text": [
      "O número escolhido foi 636368\n"
     ]
    }
   ],
   "source": [
    "# A função input é usada para receber valores do usuário. É importante lembrar que o output dessa função será sempre uma string. \n",
    "\n",
    "n = input('Digite um número?')\n",
    "print(f'O número escolhido foi {n}')"
   ]
  }
 ],
 "metadata": {
  "kernelspec": {
   "display_name": "base",
   "language": "python",
   "name": "python3"
  },
  "language_info": {
   "codemirror_mode": {
    "name": "ipython",
    "version": 3
   },
   "file_extension": ".py",
   "mimetype": "text/x-python",
   "name": "python",
   "nbconvert_exporter": "python",
   "pygments_lexer": "ipython3",
   "version": "3.10.9"
  },
  "orig_nbformat": 4
 },
 "nbformat": 4,
 "nbformat_minor": 2
}
